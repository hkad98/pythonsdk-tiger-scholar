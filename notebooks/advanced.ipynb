{
 "cells": [
  {
   "cell_type": "markdown",
   "metadata": {
    "collapsed": false
   },
   "source": [
    "# Selection of some use cases\n",
    "## Imports and other necessary things"
   ]
  },
  {
   "cell_type": "code",
   "execution_count": null,
   "metadata": {
    "collapsed": false
   },
   "outputs": [],
   "source": [
    "import networkx as nx\n",
    "from pathlib import Path\n",
    "from gooddata_sdk import CatalogWorkspace\n",
    "\n",
    "\n",
    "from gooddata_sdk import GoodDataSdk, CatalogWorkspace\n",
    "import os\n",
    "\n",
    "from dotenv import load_dotenv\n",
    "\n",
    "load_dotenv()"
   ]
  },
  {
   "cell_type": "code",
   "execution_count": null,
   "metadata": {
    "collapsed": false
   },
   "outputs": [],
   "source": [
    "sdk = GoodDataSdk.create(os.environ[\"HOST\"], os.environ[\"TOKEN\"])"
   ]
  },
  {
   "cell_type": "markdown",
   "metadata": {
    "collapsed": false
   },
   "source": [
    "## Playing around with workspace hierarchy"
   ]
  },
  {
   "cell_type": "code",
   "execution_count": null,
   "metadata": {
    "collapsed": false
   },
   "outputs": [],
   "source": [
    "workspaces = sdk.catalog_workspace.list_workspaces()\n",
    "workspace_parent_pairs = [(workspace.parent_id, workspace.id) if workspace.parent_id else (\"root\", workspace.id) for\n",
    "                          workspace in workspaces]\n",
    "print(workspace_parent_pairs)"
   ]
  },
  {
   "cell_type": "code",
   "execution_count": null,
   "metadata": {
    "collapsed": false
   },
   "outputs": [],
   "source": [
    "directed_graph = nx.DiGraph()\n",
    "directed_graph.add_edges_from(workspace_parent_pairs)\n",
    "print(directed_graph)"
   ]
  },
  {
   "cell_type": "code",
   "execution_count": null,
   "metadata": {
    "collapsed": false
   },
   "outputs": [],
   "source": [
    "nx.draw(directed_graph, with_labels=True)"
   ]
  },
  {
   "cell_type": "markdown",
   "metadata": {
    "collapsed": false
   },
   "source": [
    "## Playing around with dependent entity graph"
   ]
  },
  {
   "cell_type": "code",
   "execution_count": null,
   "metadata": {
    "collapsed": false
   },
   "outputs": [],
   "source": [
    "entities_graph = sdk.catalog_workspace_content.get_dependent_entities_graph(workspace_id=\"demo\")\n",
    "\n",
    "# We can see all types\n",
    "set(node.type for node in entities_graph.graph.nodes)\n",
    "\n",
    "filtered = {\"visualizationObject\", \"fact\"}\n",
    "\n",
    "edges = [(edge[0].id, edge[1].id) for edge in\n",
    "         entities_graph.graph.edges if len({edge[0].type, edge[1].type} - filtered) == 0 ]"
   ]
  },
  {
   "cell_type": "code",
   "execution_count": null,
   "metadata": {
    "collapsed": false
   },
   "outputs": [],
   "source": [
    "directed_graph = nx.DiGraph()\n",
    "directed_graph.add_edges_from(edges)\n",
    "print(directed_graph)"
   ]
  },
  {
   "cell_type": "code",
   "execution_count": null,
   "metadata": {
    "collapsed": false
   },
   "outputs": [],
   "source": [
    "pos = nx.circular_layout(directed_graph)\n",
    "nx.draw(directed_graph, pos=pos, with_labels=True)"
   ]
  },
  {
   "cell_type": "markdown",
   "metadata": {
    "collapsed": false
   },
   "source": [
    "## The power of layouts"
   ]
  },
  {
   "cell_type": "markdown",
   "metadata": {
    "collapsed": false
   },
   "source": [
    "### Store all my workspaces"
   ]
  },
  {
   "cell_type": "code",
   "execution_count": null,
   "metadata": {
    "collapsed": false
   },
   "outputs": [],
   "source": [
    "layout_root_path = Path.cwd().parent / \"my_gooddata_layout\""
   ]
  },
  {
   "cell_type": "code",
   "execution_count": null,
   "metadata": {
    "collapsed": false
   },
   "outputs": [],
   "source": [
    "sdk.catalog_workspace.store_declarative_workspaces(layout_root_path=layout_root_path)"
   ]
  },
  {
   "cell_type": "markdown",
   "metadata": {
    "collapsed": false
   },
   "source": [
    "#### Let's play around...\n",
    "and then put"
   ]
  },
  {
   "cell_type": "code",
   "execution_count": null,
   "metadata": {
    "collapsed": false
   },
   "outputs": [],
   "source": [
    "sdk.catalog_workspace.load_and_put_declarative_workspaces(layout_root_path=layout_root_path)"
   ]
  },
  {
   "cell_type": "markdown",
   "metadata": {
    "collapsed": false
   },
   "source": [
    "### Make a copy"
   ]
  },
  {
   "cell_type": "code",
   "execution_count": null,
   "metadata": {
    "collapsed": false
   },
   "outputs": [],
   "source": [
    "demo_copy = CatalogWorkspace(workspace_id=\"demo-copy\", name=\"Demo copy\")\n",
    "\n",
    "declarative_ldm = sdk.catalog_workspace_content.get_declarative_ldm(\"demo\")\n",
    "declarative_analytics_model = sdk.catalog_workspace_content.get_declarative_analytics_model(\"demo\")\n",
    "\n",
    "sdk.catalog_workspace.create_or_update(workspace=demo_copy)\n",
    "\n",
    "sdk.catalog_workspace_content.put_declarative_ldm(workspace_id=demo_copy.id, ldm=declarative_ldm)\n",
    "sdk.catalog_workspace_content.put_declarative_analytics_model(workspace_id=demo_copy.id,\n",
    "                                                              analytics_model=declarative_analytics_model)"
   ]
  }
 ],
 "metadata": {
  "kernelspec": {
   "display_name": "Python 3.10.8 ('.venv': venv)",
   "language": "python",
   "name": "python3"
  },
  "language_info": {
   "codemirror_mode": {
    "name": "ipython",
    "version": 3
   },
   "file_extension": ".py",
   "mimetype": "text/x-python",
   "name": "python",
   "nbconvert_exporter": "python",
   "pygments_lexer": "ipython3",
   "version": "3.10.8"
  },
  "vscode": {
   "interpreter": {
    "hash": "ad534e487850691be71b55755ffd52a1c763c579c3cbe98aa575fd89d91012c4"
   }
  }
 },
 "nbformat": 4,
 "nbformat_minor": 0
}
