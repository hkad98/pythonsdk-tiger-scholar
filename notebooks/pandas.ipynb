{
 "cells": [
  {
   "cell_type": "markdown",
   "metadata": {
    "collapsed": false
   },
   "source": [
    "# Get familiar with GoodPandas\n",
    "## Imports and other necessary things"
   ]
  },
  {
   "cell_type": "code",
   "execution_count": null,
   "metadata": {
    "collapsed": false
   },
   "outputs": [],
   "source": [
    "from gooddata_sdk import ExecutionDefinition, Attribute, SimpleMetric, ObjId\n",
    "from gooddata_pandas import GoodPandas\n",
    "\n",
    "import os\n",
    "\n",
    "from dotenv import load_dotenv\n",
    "\n",
    "load_dotenv()"
   ]
  },
  {
   "cell_type": "code",
   "execution_count": null,
   "metadata": {
    "collapsed": false
   },
   "outputs": [],
   "source": [
    "pandas = GoodPandas(os.environ[\"HOST\"], os.environ[\"TOKEN\"])"
   ]
  },
  {
   "cell_type": "markdown",
   "metadata": {
    "collapsed": false
   },
   "source": [
    "## Data frames"
   ]
  },
  {
   "cell_type": "code",
   "execution_count": null,
   "metadata": {
    "collapsed": false
   },
   "outputs": [],
   "source": [
    "data_frame_factory = pandas.data_frames(workspace_id=\"demo\")"
   ]
  },
  {
   "cell_type": "markdown",
   "metadata": {
    "collapsed": false
   },
   "source": [
    "### Indexed"
   ]
  },
  {
   "cell_type": "code",
   "execution_count": null,
   "metadata": {
    "collapsed": false
   },
   "outputs": [],
   "source": [
    "data_frame_factory.indexed(\n",
    "    index_by=\"label/region\",\n",
    "    columns=dict(\n",
    "        category=\"label/products.category\",\n",
    "        price=\"fact/price\",\n",
    "    ),\n",
    ")"
   ]
  },
  {
   "cell_type": "markdown",
   "metadata": {
    "collapsed": false
   },
   "source": [
    "### Not indexed"
   ]
  },
  {
   "cell_type": "code",
   "execution_count": null,
   "metadata": {
    "collapsed": false
   },
   "outputs": [],
   "source": [
    "data_frame_factory.not_indexed(\n",
    "    columns=dict(\n",
    "        region=\"label/region\",\n",
    "        category=\"label/products.category\",\n",
    "        price=\"fact/price\",\n",
    "    )\n",
    ")"
   ]
  },
  {
   "cell_type": "markdown",
   "metadata": {
    "collapsed": false
   },
   "source": [
    "### Items\n",
    "Depending on what items you specify, this method will create DataFrame with or without index."
   ]
  },
  {
   "cell_type": "code",
   "execution_count": null,
   "metadata": {
    "collapsed": false
   },
   "outputs": [],
   "source": [
    "data_frame_factory.for_items(\n",
    "    items=dict(\n",
    "        reg=\"label/region\",\n",
    "        category=\"label/products.category\",\n",
    "        price=\"fact/price\"\n",
    "    )\n",
    ")"
   ]
  },
  {
   "cell_type": "markdown",
   "metadata": {
    "collapsed": false
   },
   "source": [
    "### Insight"
   ]
  },
  {
   "cell_type": "code",
   "execution_count": null,
   "metadata": {
    "collapsed": false
   },
   "outputs": [],
   "source": [
    "data_frame_factory.for_insight(insight_id=\"campaign_spend\")"
   ]
  },
  {
   "cell_type": "markdown",
   "metadata": {
    "collapsed": false
   },
   "source": [
    "### Execution definition"
   ]
  },
  {
   "cell_type": "code",
   "execution_count": null,
   "metadata": {
    "collapsed": false
   },
   "outputs": [],
   "source": [
    "execution_definition = ExecutionDefinition(\n",
    "    attributes=[\n",
    "        Attribute(local_id=\"region\", label=\"region\"),\n",
    "        Attribute(local_id=\"state\", label=\"state\"),\n",
    "        Attribute(local_id=\"product_category\", label=\"products.category\"),\n",
    "    ],\n",
    "    metrics=[\n",
    "        SimpleMetric(local_id=\"price\", item=ObjId(id=\"price\", type=\"fact\")),\n",
    "        SimpleMetric(local_id=\"order_amount\", item=ObjId(id=\"order_amount\", type=\"metric\")),\n",
    "    ],\n",
    "    filters=[],\n",
    "    dimensions=[[\"region\", \"state\", \"product_category\", \"measureGroup\"]],\n",
    ")\n",
    "\n",
    "data_frame_factory.for_exec_def(exec_def=execution_definition)"
   ]
  },
  {
   "cell_type": "markdown",
   "metadata": {
    "collapsed": false
   },
   "source": [
    "\n",
    "### Execution result id"
   ]
  },
  {
   "cell_type": "code",
   "execution_count": null,
   "metadata": {
    "collapsed": false
   },
   "outputs": [],
   "source": [
    "data_frame_factory.for_exec_result_id(result_id=\"\")"
   ]
  },
  {
   "cell_type": "markdown",
   "metadata": {
    "collapsed": false
   },
   "source": [
    "## Series"
   ]
  },
  {
   "cell_type": "code",
   "execution_count": null,
   "metadata": {
    "collapsed": false
   },
   "outputs": [],
   "source": [
    "series_factory = pandas.series(workspace_id=\"demo\")"
   ]
  },
  {
   "cell_type": "markdown",
   "metadata": {
    "collapsed": false
   },
   "source": [
    "### Indexed"
   ]
  },
  {
   "cell_type": "code",
   "execution_count": null,
   "metadata": {
    "collapsed": false,
    "pycharm": {
     "is_executing": true
    }
   },
   "outputs": [],
   "source": [
    "series_factory.indexed(\n",
    "    index_by=dict(reg=\"label/region\"),\n",
    "    data_by=\"fact/price\",\n",
    ")"
   ]
  },
  {
   "cell_type": "markdown",
   "metadata": {
    "collapsed": false
   },
   "source": [
    "## Not indexed"
   ]
  },
  {
   "cell_type": "code",
   "execution_count": null,
   "metadata": {
    "collapsed": false,
    "pycharm": {
     "is_executing": true
    }
   },
   "outputs": [],
   "source": [
    "series_factory.not_indexed(granularity=dict(reg=\"label/region\"),data_by=\"fact/price\",)"
   ]
  }
 ],
 "metadata": {
  "kernelspec": {
   "display_name": "Python 3.10.8 ('.venv': venv)",
   "language": "python",
   "name": "python3"
  },
  "language_info": {
   "codemirror_mode": {
    "name": "ipython",
    "version": 3
   },
   "file_extension": ".py",
   "mimetype": "text/x-python",
   "name": "python",
   "nbconvert_exporter": "python",
   "pygments_lexer": "ipython3",
   "version": "3.10.8"
  },
  "vscode": {
   "interpreter": {
    "hash": "ad534e487850691be71b55755ffd52a1c763c579c3cbe98aa575fd89d91012c4"
   }
  }
 },
 "nbformat": 4,
 "nbformat_minor": 0
}
