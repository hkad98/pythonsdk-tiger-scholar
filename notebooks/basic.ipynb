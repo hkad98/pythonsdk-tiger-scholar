{
 "cells": [
  {
   "cell_type": "markdown",
   "metadata": {
    "collapsed": false
   },
   "source": [
    "# Basic operations\n",
    "## Imports and other necessary things"
   ]
  },
  {
   "cell_type": "code",
   "execution_count": null,
   "metadata": {
    "collapsed": false
   },
   "outputs": [],
   "source": [
    "from gooddata_sdk import GoodDataSdk, CatalogWorkspace, CatalogDataSourcePostgres, PostgresAttributes, BasicCredentials\n",
    "from gooddata_api_client import ApiException\n",
    "import json\n",
    "import os\n",
    "\n",
    "from dotenv import load_dotenv\n",
    "\n",
    "load_dotenv()"
   ]
  },
  {
   "cell_type": "code",
   "execution_count": null,
   "metadata": {
    "collapsed": false
   },
   "outputs": [],
   "source": [
    "sdk = GoodDataSdk.create(os.environ[\"HOST\"], os.environ[\"TOKEN\"])"
   ]
  },
  {
   "cell_type": "markdown",
   "metadata": {
    "collapsed": false
   },
   "source": [
    "## Workspaces"
   ]
  },
  {
   "cell_type": "code",
   "execution_count": null,
   "metadata": {
    "collapsed": false,
    "pycharm": {
     "is_executing": true
    }
   },
   "outputs": [],
   "source": [
    "sdk.catalog_workspace.list_workspaces()"
   ]
  },
  {
   "cell_type": "code",
   "execution_count": null,
   "metadata": {
    "collapsed": false
   },
   "outputs": [],
   "source": [
    "sdk.catalog_workspace.get_workspace(workspace_id=\"demo\")"
   ]
  },
  {
   "cell_type": "code",
   "execution_count": null,
   "metadata": {
    "collapsed": false
   },
   "outputs": [],
   "source": [
    "workspace = CatalogWorkspace(workspace_id=\"my-new-workspace\", name=\"My New Workspace\")\n",
    "sdk.catalog_workspace.create_or_update(workspace=workspace)"
   ]
  },
  {
   "cell_type": "code",
   "execution_count": null,
   "metadata": {
    "collapsed": false
   },
   "outputs": [],
   "source": [
    "sdk.catalog_workspace.delete_workspace(workspace_id=\"my-new-workspace\")"
   ]
  },
  {
   "cell_type": "markdown",
   "metadata": {
    "collapsed": false
   },
   "source": [
    "## Data source"
   ]
  },
  {
   "cell_type": "code",
   "execution_count": null,
   "metadata": {
    "collapsed": false
   },
   "outputs": [],
   "source": [
    "sdk.catalog_data_source.list_data_sources()"
   ]
  },
  {
   "cell_type": "code",
   "execution_count": null,
   "metadata": {
    "collapsed": false
   },
   "outputs": [],
   "source": [
    "sdk.catalog_data_source.get_data_source(data_source_id=\"demo-test-ds\")"
   ]
  },
  {
   "cell_type": "code",
   "execution_count": null,
   "metadata": {
    "collapsed": false
   },
   "outputs": [],
   "source": [
    "data_source = CatalogDataSourcePostgres(\n",
    "    id=\"my-other-datasource\",\n",
    "    name=\"My other datasource\",\n",
    "    db_specific_attributes=PostgresAttributes(host=\"localhost\", db_name=\"gooddata\", port=\"2543\"),\n",
    "    schema=\"public\",\n",
    "    credentials=BasicCredentials(\n",
    "        username=\"gooddata\",\n",
    "        password=\"gooddata123\",\n",
    "    )\n",
    ")\n",
    "\n",
    "\n",
    "sdk.catalog_data_source.create_or_update_data_source(data_source=data_source)\n",
    "sdk.catalog_data_source.get_data_source(data_source_id=\"my-other-datasource\")"
   ]
  },
  {
   "cell_type": "code",
   "execution_count": null,
   "metadata": {
    "collapsed": false
   },
   "outputs": [],
   "source": [
    "sdk.catalog_data_source.delete_data_source(data_source_id=\"my-other-datasource\")"
   ]
  },
  {
   "cell_type": "markdown",
   "metadata": {
    "collapsed": false
   },
   "source": [
    "## Insights"
   ]
  },
  {
   "cell_type": "code",
   "execution_count": null,
   "metadata": {
    "collapsed": false
   },
   "outputs": [],
   "source": [
    "sdk.insights.get_insights(workspace_id=\"demo\")"
   ]
  },
  {
   "cell_type": "code",
   "execution_count": null,
   "metadata": {
    "collapsed": false
   },
   "outputs": [],
   "source": [
    "sdk.insights.get_insight(workspace_id=\"demo\", insight_id=\"customers_trend\")"
   ]
  },
  {
   "cell_type": "code",
   "execution_count": null,
   "metadata": {
    "collapsed": false,
    "pycharm": {
     "is_executing": true
    }
   },
   "outputs": [],
   "source": [
    "insights = sdk.insights.get_insights(workspace_id=\"demo\")\n",
    "for insight in insights:\n",
    "    try:\n",
    "        sdk.tables.for_insight(workspace_id=\"demo\", insight=insight)\n",
    "    except ApiException as e:\n",
    "        print(f\"Insight {insight.title} is invalid and cannot be computed with the following reason {json.loads(e.body).get('reason')}.\")"
   ]
  }
 ],
 "metadata": {
  "kernelspec": {
   "display_name": "Python 3.10.8 ('.venv': venv)",
   "language": "python",
   "name": "python3"
  },
  "language_info": {
   "codemirror_mode": {
    "name": "ipython",
    "version": 3
   },
   "file_extension": ".py",
   "mimetype": "text/x-python",
   "name": "python",
   "nbconvert_exporter": "python",
   "pygments_lexer": "ipython3",
   "version": "3.10.8"
  },
  "vscode": {
   "interpreter": {
    "hash": "ad534e487850691be71b55755ffd52a1c763c579c3cbe98aa575fd89d91012c4"
   }
  }
 },
 "nbformat": 4,
 "nbformat_minor": 0
}
